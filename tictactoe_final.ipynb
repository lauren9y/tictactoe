{
 "cells": [
  {
   "cell_type": "code",
   "execution_count": 1,
   "metadata": {},
   "outputs": [],
   "source": [
    "using Combinatorics\n",
    "using LinearAlgebra\n",
    "using StatsBase\n",
    "using Profile\n",
    "using Plots\n",
    "using Statistics"
   ]
  },
  {
   "cell_type": "markdown",
   "metadata": {},
   "source": [
    "# Wrappers"
   ]
  },
  {
   "cell_type": "code",
   "execution_count": 2,
   "metadata": {},
   "outputs": [],
   "source": [
    "#reward values\n",
    "@enum RewardVal begin\n",
    "    winReward = 100\n",
    "    drawReward = 0\n",
    "    loseReward = -100\n",
    "end"
   ]
  },
  {
   "cell_type": "code",
   "execution_count": 3,
   "metadata": {},
   "outputs": [],
   "source": [
    "@enum Marker begin\n",
    "    E = 0\n",
    "    X = 1\n",
    "    O = 2\n",
    "end"
   ]
  },
  {
   "cell_type": "code",
   "execution_count": 4,
   "metadata": {},
   "outputs": [],
   "source": [
    "# The current tiles on a board\n",
    "mutable struct BoardInstance\n",
    "    n::Int64 # Board dimension (number of spaces per side)\n",
    "    board::Array{Marker,2} # Current markers on the board\n",
    "    emptyTiles::Array{CartesianIndex} # Tiles on the board that are currently empty\n",
    "end"
   ]
  },
  {
   "cell_type": "code",
   "execution_count": 5,
   "metadata": {},
   "outputs": [],
   "source": [
    "# Define a tictactoe game\n",
    "mutable struct TicTacToeGame\n",
    "    n::Int64 # Board dimension (number of spaces per side)\n",
    "    state::BoardInstance # Current state of the board\n",
    "end"
   ]
  },
  {
   "cell_type": "code",
   "execution_count": 6,
   "metadata": {},
   "outputs": [],
   "source": [
    "struct Player\n",
    "    marker::Marker # Whether the player is an X or O\n",
    "end"
   ]
  },
  {
   "cell_type": "code",
   "execution_count": 7,
   "metadata": {},
   "outputs": [
    {
     "data": {
      "text/plain": [
       "getFirstBoardInstance (generic function with 1 method)"
      ]
     },
     "execution_count": 7,
     "metadata": {},
     "output_type": "execute_result"
    }
   ],
   "source": [
    "function getFirstBoardInstance(n::Int64)\n",
    "    board = fill(E, n, n)\n",
    "    emptyTiles = findall(i->i in [X E O], board)\n",
    "    return BoardInstance(n,board,emptyTiles)\n",
    "end"
   ]
  },
  {
   "cell_type": "code",
   "execution_count": 8,
   "metadata": {},
   "outputs": [],
   "source": [
    "mutable struct Cache\n",
    "    R_sa::Dict{Tuple{Array{Marker,2}, CartesianIndex}, Int64} # Stores reward results of board,action pairs\n",
    "    W_sp::Dict{Tuple{Array{Marker,2}, Player}, Bool} # Stores winning results of state,player pairs\n",
    "    A_s::Dict{Array{Marker,2}, Array{CartesianIndex}} # Stores action spaces for states\n",
    "    S_sa::Dict{Tuple{Array{Marker,2}, CartesianIndex}, Array{BoardInstance}} # Stores state spaces for state action pairs\n",
    "end"
   ]
  },
  {
   "cell_type": "code",
   "execution_count": 9,
   "metadata": {},
   "outputs": [
    {
     "data": {
      "text/plain": [
       "createCache (generic function with 1 method)"
      ]
     },
     "execution_count": 9,
     "metadata": {},
     "output_type": "execute_result"
    }
   ],
   "source": [
    "function createCache()\n",
    "   return Cache( Dict{Tuple{Array{Marker,2}, CartesianIndex}, Int64}(),\n",
    "        Dict{Tuple{Array{Marker,2}, Player}, Bool}(),\n",
    "        Dict{Array{Marker,2}, Array{CartesianIndex}}(),\n",
    "        Dict{Tuple{Array{Marker,2}, CartesianIndex}, Array{BoardInstance}}()) \n",
    "end"
   ]
  },
  {
   "cell_type": "markdown",
   "metadata": {},
   "source": [
    "# MDP Functions"
   ]
  },
  {
   "cell_type": "code",
   "execution_count": 10,
   "metadata": {},
   "outputs": [
    {
     "data": {
      "text/plain": [
       "getReachableActionSpace (generic function with 1 method)"
      ]
     },
     "execution_count": 10,
     "metadata": {},
     "output_type": "execute_result"
    }
   ],
   "source": [
    "# Create a list of current possible locations to put an X\n",
    "function getReachableActionSpace(boardInstance::BoardInstance, cache::Cache)\n",
    "    # Check the cache\n",
    "    if haskey(cache.A_s, boardInstance.board)\n",
    "        return cache.A_s[boardInstance.board]\n",
    "    end\n",
    "    \n",
    "    if length(boardInstance.emptyTiles) == boardInstance.n*boardInstance.n\n",
    "        prunedTiles = CartesianIndex[]\n",
    "        cutoffIndex = Int64(ceil(boardInstance.n/2))\n",
    "        for tile in boardInstance.emptyTiles\n",
    "            if ( (tile[1] <= cutoffIndex) && (tile[2] <= cutoffIndex))\n",
    "                append!(prunedTiles, [tile])\n",
    "            end\n",
    "        end\n",
    "        cache.A_s[boardInstance.board] = copy(prunedTiles)\n",
    "        return prunedTiles\n",
    "    else\n",
    "        # Can place an X in any empty tile\n",
    "        cache.A_s[boardInstance.board] = copy(boardInstance.emptyTiles)\n",
    "        return boardInstance.emptyTiles\n",
    "    end\n",
    "end"
   ]
  },
  {
   "cell_type": "code",
   "execution_count": 11,
   "metadata": {},
   "outputs": [],
   "source": [
    "# # Test getReachableActionSpace\n",
    "# board = [X E E; O X X; O O E]\n",
    "\n",
    "# boardInstance = getFirstBoardInstance(5)\n",
    "# getReachableActionSpace(boardInstance)"
   ]
  },
  {
   "cell_type": "code",
   "execution_count": 12,
   "metadata": {},
   "outputs": [
    {
     "data": {
      "text/plain": [
       "getReachableStateSpace (generic function with 1 method)"
      ]
     },
     "execution_count": 12,
     "metadata": {},
     "output_type": "execute_result"
    }
   ],
   "source": [
    "# Create all potential next states given the current state of the game\n",
    "# S'(s,a)\n",
    "function getReachableStateSpace(boardInstance::BoardInstance, action::CartesianIndex, cache::Cache)    \n",
    "    # Check the cache\n",
    "    if haskey(cache.S_sa, (boardInstance.board, action))\n",
    "\n",
    "        return cache.S_sa[(boardInstance.board, action)]\n",
    "    end\n",
    "    \n",
    "    # Prepare a template for new boards with the new X filled in\n",
    "    newBoardInstanceTemplateTiles = copy(boardInstance.board)\n",
    "    newBoardInstanceTemplateTiles[action] = X\n",
    "    newBoardInstanceTemplateEmptyTiles = [tile for tile in boardInstance.emptyTiles if tile != action]\n",
    "    newBoardInstanceTemplate = BoardInstance( boardInstance.n, \n",
    "                    newBoardInstanceTemplateTiles, newBoardInstanceTemplateEmptyTiles )\n",
    "    \n",
    "    # Initialize an array of new boards\n",
    "#     newBoards = fill( newBoardTemplate, length(newBoardTemplate.emptyTiles) )\n",
    "    reachableBoardInstances = BoardInstance[]\n",
    "    \n",
    "    # Fill out the new boards with possible opponent (O) actions\n",
    "    \n",
    "    for emptyTile in newBoardInstanceTemplate.emptyTiles\n",
    "        newTiles = copy(newBoardInstanceTemplate.board)\n",
    "        newTiles[emptyTile] = O\n",
    "        newEmptyTiles = [tile for tile in newBoardInstanceTemplate.emptyTiles if tile != emptyTile]\n",
    "        newBoardInstance = BoardInstance( newBoardInstanceTemplate.n, newTiles, newEmptyTiles, )\n",
    "        append!(reachableBoardInstances, [newBoardInstance])\n",
    "    end\n",
    "    cache.S_sa[(boardInstance.board, action)] = [BoardInstance( reachableBoardInstance.n, \n",
    "                                    copy(reachableBoardInstance.board), copy(reachableBoardInstance.emptyTiles)) \n",
    "                                    for reachableBoardInstance in reachableBoardInstances]\n",
    "\n",
    "    return reachableBoardInstances\n",
    "\n",
    "end"
   ]
  },
  {
   "cell_type": "code",
   "execution_count": 13,
   "metadata": {},
   "outputs": [],
   "source": [
    "# # Test getReachableStateSpace\n",
    "# board = [X E E; O X X; O O E]\n",
    "# emptyTiles = findall(x->x==E, board)\n",
    "# boardInstance = BoardInstance(3, board, emptyTiles)\n",
    "# actionSpace = getReachableActionSpace(boardInstance)\n",
    "# for action in actionSpace\n",
    "#     @show action\n",
    "#     @show getReachableStateSpace(boardInstance, action)\n",
    "# end"
   ]
  },
  {
   "cell_type": "code",
   "execution_count": 14,
   "metadata": {},
   "outputs": [
    {
     "data": {
      "text/plain": [
       "checkWin (generic function with 1 method)"
      ]
     },
     "execution_count": 14,
     "metadata": {},
     "output_type": "execute_result"
    }
   ],
   "source": [
    "# Check whether the given player wins the given board instance\n",
    "function checkWin(boardInstance::BoardInstance, player::Player, cache::Cache)\n",
    "    \n",
    "    # Check the cache\n",
    "    if haskey(cache.W_sp, (boardInstance.board, player))\n",
    "        return cache.W_sp[(boardInstance.board, player)]\n",
    "    end\n",
    "    \n",
    "    playerWins = false\n",
    "\n",
    "        \n",
    "    if (all(marker -> marker == player.marker, diag(boardInstance.board)) || # Main diagonal\n",
    "            all(marker -> marker == player.marker, diag(boardInstance.board[:,end:-1:1]))) # Opposite diagonal\n",
    "        playerWins = true\n",
    "    else\n",
    "        for i = 1:boardInstance.n\n",
    "            if (all(marker -> marker == player.marker, boardInstance.board[i,:]) || # Row\n",
    "                all(marker -> marker == player.marker, boardInstance.board[:,i])) # Column\n",
    "                \n",
    "\n",
    "                playerWins = true\n",
    "                break\n",
    "            end\n",
    "        end\n",
    "    end\n",
    "    cache.W_sp[(boardInstance.board, player)] = playerWins\n",
    "    return playerWins\n",
    "end\n",
    "# reverse_board = map(Int, permutedims(reshape(reverse(state), game.n, game.n)))"
   ]
  },
  {
   "cell_type": "code",
   "execution_count": 15,
   "metadata": {},
   "outputs": [],
   "source": [
    "# # Test checkWin\n",
    "\n",
    "# player = Player(X)\n",
    "\n",
    "# board = [X E E; X E X; E E X]\n",
    "# emptyTiles = findall(x->x==E, board)\n",
    "# @show checkWin(BoardInstance(3, board, emptyTiles), player)\n",
    "\n",
    "# board = [X E E; X E E; X E E]\n",
    "# @show checkWin(BoardInstance(3, board, emptyTiles), player)\n",
    "\n",
    "# board = [E X E; E X E; E X E]\n",
    "# @show checkWin(BoardInstance(3, board, emptyTiles), player)\n",
    "\n",
    "# board = [X E E; E X E; E E X]\n",
    "# @show checkWin(BoardInstance(3, board, emptyTiles), player)\n",
    "\n",
    "# board = [E E X; E X E; X E E]\n",
    "# @show checkWin(BoardInstance(3, board, emptyTiles), player)"
   ]
  },
  {
   "cell_type": "code",
   "execution_count": 16,
   "metadata": {},
   "outputs": [
    {
     "data": {
      "text/plain": [
       "getTransitionProbabilities (generic function with 1 method)"
      ]
     },
     "execution_count": 16,
     "metadata": {},
     "output_type": "execute_result"
    }
   ],
   "source": [
    "# Get a list of the transition probabilities for a set of reachable states\n",
    "# T(s,a)\n",
    "function getTransitionProbabilities(newBoardInstances::Array{BoardInstance}, cache::Cache)\n",
    "    nNewBoardInstances = length(newBoardInstances)\n",
    "    Ts = zeros(Float64, nNewBoardInstances)\n",
    "    \n",
    "    # Whether the opponent can make a winning move\n",
    "    winningMoveExists = false;\n",
    "    \n",
    "    i = 1\n",
    "    for newBoardInstance in newBoardInstances\n",
    "        # The opponent will always take a winning move\n",
    "        if checkWin(newBoardInstance, Player(O), cache)\n",
    "            Ts[i] = 1\n",
    "            winningMoveExists = true\n",
    "            break\n",
    "        end\n",
    "        i += 1\n",
    "    end\n",
    "    \n",
    "    # Uniform probability\n",
    "    if !winningMoveExists\n",
    "        Ts = fill(1.0/nNewBoardInstances, nNewBoardInstances)\n",
    "    end\n",
    "    \n",
    "    return Ts\n",
    "end"
   ]
  },
  {
   "cell_type": "code",
   "execution_count": 17,
   "metadata": {},
   "outputs": [],
   "source": [
    "# Test getReachableStateSpace\n",
    "# board = [X E E; O X X; O O E]\n",
    "# emptyTiles = findall(x->x==E, board)\n",
    "\n",
    "# boardInstance = BoardInstance(3, board, emptyTiles)\n",
    "# actionSpace = getReachableActionSpace(boardInstance)\n",
    "# for action in actionSpace\n",
    "#     @show action\n",
    "#     @show stateSpace = getReachableStateSpace(boardInstance, action)\n",
    "#     @show getTransitionProbabilities(stateSpace)\n",
    "# end"
   ]
  },
  {
   "cell_type": "code",
   "execution_count": 18,
   "metadata": {},
   "outputs": [
    {
     "data": {
      "text/plain": [
       "getReward (generic function with 1 method)"
      ]
     },
     "execution_count": 18,
     "metadata": {},
     "output_type": "execute_result"
    }
   ],
   "source": [
    "function getReward(boardInstance::BoardInstance, action::CartesianIndex, \n",
    "        reachableBoardInstances::Array{BoardInstance}, cache::Cache)\n",
    "    \n",
    "    if haskey(cache.R_sa, (boardInstance.board, action))\n",
    "       return cache.R_sa[(boardInstance.board, action)]\n",
    "    end\n",
    "    \n",
    "    reward = 0\n",
    "    newBoardInstance = BoardInstance( boardInstance.n, \n",
    "        copy(boardInstance.board), copy(boardInstance.emptyTiles))\n",
    "    newBoardInstance.board[action] = X\n",
    "    \n",
    "    if checkWin(newBoardInstance, Player(X), cache)\n",
    "        # Player will win by taking this move\n",
    "\n",
    "        # We're not updating the empty tiles but it doesn't matter\n",
    "        reward = winReward\n",
    "    else        \n",
    "        for reachableBoardInstance in reachableBoardInstances\n",
    "            if checkWin(reachableBoardInstance, Player(O), cache)\n",
    "                # Player will lose because opponent will make a winning move\n",
    "                reward = loseReward\n",
    "            end            \n",
    "        end\n",
    "    end\n",
    "    \n",
    "    cache.R_sa[(boardInstance.board, action)] = Int64(reward)\n",
    "    return Int64(reward)\n",
    "\n",
    "end"
   ]
  },
  {
   "cell_type": "code",
   "execution_count": 19,
   "metadata": {},
   "outputs": [],
   "source": [
    "# # Test getReward\n",
    "# board = [X E E; O X X; O E E]\n",
    "# emptyTiles = findall(x->x==E, board)\n",
    "\n",
    "# boardInstance = BoardInstance(3, board, emptyTiles)\n",
    "# action = CartesianIndex(3,3)\n",
    "# stateSpace = getReachableStateSpace(boardInstance, action)\n",
    "# @show getReward(boardInstance, action, stateSpace)\n",
    "# action = CartesianIndex(1,2)\n",
    "# stateSpace = getReachableStateSpace(boardInstance, action)\n",
    "# @show getReward(boardInstance, action, stateSpace)\n",
    "\n",
    "# board = [X E E; O X X; O O E]\n",
    "# boardInstance = BoardInstance(3, board, emptyTiles)\n",
    "# action = CartesianIndex(1,2)\n",
    "# stateSpace = getReachableStateSpace(boardInstance, action)\n",
    "# @show getReward(boardInstance, action, stateSpace)\n",
    "\n",
    "# board = [X E O; X E O; E E E]\n",
    "# boardInstance = BoardInstance(3, board, emptyTiles)\n",
    "# action = CartesianIndex(3,1)\n",
    "# stateSpace = getReachableStateSpace(boardInstance, action)\n",
    "# @show getReward(boardInstance, action, stateSpace)"
   ]
  },
  {
   "cell_type": "markdown",
   "metadata": {},
   "source": [
    "# Monte Carlo"
   ]
  },
  {
   "cell_type": "markdown",
   "metadata": {},
   "source": [
    "### Wrappers and Initializers"
   ]
  },
  {
   "cell_type": "code",
   "execution_count": 20,
   "metadata": {},
   "outputs": [],
   "source": [
    "# initializes all structures/parameters before starting MCTS\n",
    "# Dictionaries of N(s), N(s,a) and Q(s,a), exploration constant c\n",
    "# \n",
    "mutable struct GameSimulation\n",
    "    N_sa::Dict{Tuple{Array{Marker,2}, CartesianIndex}, Int64} # stores counts of board,action pairs\n",
    "    N_s::Dict{Array{Marker,2}, Int64} # stores counts of each state\n",
    "    Q_sa::Dict{Tuple{Array{Marker,2},CartesianIndex}, Float64} # total value of a board,action pair\n",
    "    T::Set{Array{Marker,2}} # set of states we've seen\n",
    "    c::Float64 # exploration constant (feel free to tweak/change!)\n",
    "    gamma::Float64\n",
    "    nIterations::Int64\n",
    "end"
   ]
  },
  {
   "cell_type": "code",
   "execution_count": 21,
   "metadata": {
    "scrolled": true
   },
   "outputs": [
    {
     "data": {
      "text/plain": [
       "getNewGameSim (generic function with 1 method)"
      ]
     },
     "execution_count": 21,
     "metadata": {},
     "output_type": "execute_result"
    }
   ],
   "source": [
    "# initialize players before starting\n",
    "# player1 = Player(x, 1.0)\n",
    "# player2 = Player(o, 1.0)\n",
    "function getNewGameSim(c::Float64, gamma::Float64, numIterations::Int64)\n",
    "    # Number of times we've taken an action from a state\n",
    "    # Dictionary from (state,action) to count\n",
    "    N_sa = Dict{Tuple{Array{Marker,2}, CartesianIndex}, Int64}()\n",
    "\n",
    "    # Total number of actions we've taken from a state\n",
    "    # Dictionary from state to count\n",
    "    N_s = Dict{Array{Marker,2}, Int64}()\n",
    "\n",
    "    # Value of taking an action from a state\n",
    "    # Dictionary from (state,action) to value\n",
    "    Q_sa = Dict{Tuple{Array{Marker,2},CartesianIndex}, Float64}()\n",
    "\n",
    "    # Set of all states visited\n",
    "    T = Set{Array{Marker,2}}()\n",
    "\n",
    "    gameSim = GameSimulation(N_sa, N_s, Q_sa, T, c, gamma, numIterations)\n",
    "    return gameSim\n",
    "end"
   ]
  },
  {
   "cell_type": "code",
   "execution_count": 22,
   "metadata": {},
   "outputs": [],
   "source": [
    "# Test getNewGameSim\n",
    "# n = 3\n",
    "# boardInstance = getFirstBoardInstance(n)\n",
    "# gameSim = getNewGameSim(1.0, 1.0, 1000)"
   ]
  },
  {
   "cell_type": "markdown",
   "metadata": {},
   "source": [
    "### Logic"
   ]
  },
  {
   "cell_type": "code",
   "execution_count": 23,
   "metadata": {},
   "outputs": [
    {
     "data": {
      "text/plain": [
       "checkTerminalState (generic function with 1 method)"
      ]
     },
     "execution_count": 23,
     "metadata": {},
     "output_type": "execute_result"
    }
   ],
   "source": [
    "function checkTerminalState(boardInstance::BoardInstance, cache::Cache)\n",
    "    isTerminal = false\n",
    "    \n",
    "    if checkWin(boardInstance, Player(X), cache) || checkWin(boardInstance, Player(O), cache)\n",
    "        # One of the players has won\n",
    "        isTerminal = true\n",
    "    elseif length(boardInstance.emptyTiles) in [0, 1]\n",
    "        # No more moves are possible\n",
    "        isTerminal = true\n",
    "    end\n",
    "    \n",
    "    return isTerminal\n",
    "end"
   ]
  },
  {
   "cell_type": "code",
   "execution_count": 24,
   "metadata": {},
   "outputs": [
    {
     "data": {
      "text/plain": [
       "explore (generic function with 1 method)"
      ]
     },
     "execution_count": 24,
     "metadata": {},
     "output_type": "execute_result"
    }
   ],
   "source": [
    "# Exploration Function, i know this can be sped up, but its really\n",
    "# slow right now\n",
    "function explore(gameSim::GameSimulation, boardInstance::BoardInstance, cache::Cache)\n",
    "    rewardMax = -Inf\n",
    "    bestAction = CartesianIndex()\n",
    "    \n",
    "    # Maximize the cost function over all possible actions\n",
    "    for action in getReachableActionSpace(boardInstance, cache)\n",
    "        reward = gameSim.Q_sa[(boardInstance.board, action)] + \n",
    "            gameSim.c * sqrt(log(gameSim.N_s[boardInstance.board]) / \n",
    "            gameSim.N_sa[(boardInstance.board,action)])\n",
    "        if reward > rewardMax\n",
    "            rewardMax = reward\n",
    "            bestAction = action\n",
    "        end\n",
    "    end\n",
    "    return bestAction\n",
    "end"
   ]
  },
  {
   "cell_type": "code",
   "execution_count": 25,
   "metadata": {},
   "outputs": [
    {
     "data": {
      "text/plain": [
       "expand (generic function with 1 method)"
      ]
     },
     "execution_count": 25,
     "metadata": {},
     "output_type": "execute_result"
    }
   ],
   "source": [
    "# Iterate over all the actions from this new state\n",
    "function expand(gameSim::GameSimulation, boardInstance::BoardInstance, cache::Cache)\n",
    "    gameSim.N_s[boardInstance.board] = 0 # initialize N_sa to our prior N_0 (0)\n",
    "    for action in getReachableActionSpace(boardInstance, cache)\n",
    "        gameSim.N_sa[(boardInstance.board,action)] = 1 # initialize N_sa to our prior N_0 (0)\n",
    "        gameSim.Q_sa[(boardInstance.board,action)] = 1 # initialize Q_sa to our prior Q_0 (0)\n",
    "        gameSim.N_s[boardInstance.board] += 1 # initialize N_sa to our prior N_0 (0)\n",
    "    end\n",
    "    gameSim.T = union(gameSim.T, Set([boardInstance.board]))\n",
    "end"
   ]
  },
  {
   "cell_type": "code",
   "execution_count": 26,
   "metadata": {},
   "outputs": [
    {
     "data": {
      "text/plain": [
       "rollout (generic function with 1 method)"
      ]
     },
     "execution_count": 26,
     "metadata": {},
     "output_type": "execute_result"
    }
   ],
   "source": [
    "\n",
    "function rollout(gameSim::GameSimulation, boardInstance::BoardInstance, cache::Cache)\n",
    "    if checkTerminalState(boardInstance, cache)\n",
    "        # The game has ended\n",
    "        if length(boardInstance.emptyTiles) == 1\n",
    "            # We have one tile left to fill in an odd-number n board\n",
    "            newBoardInstance = BoardInstance(boardInstance.n, copy(boardInstance.board), copy(boardInstance.emptyTiles))\n",
    "            newBoardInstance.board[boardInstance.emptyTiles[1]] = X\n",
    "            if checkWin(newBoardInstance, Player(X), cache)\n",
    "                # Filling in that tile with X wins the game\n",
    "                return Int64(winReward)\n",
    "            end\n",
    "        end\n",
    "        return 0\n",
    "\n",
    "    end\n",
    "\n",
    "    \n",
    "    # Choose the action to take\n",
    "    actionSpace = getReachableActionSpace(boardInstance, cache)\n",
    "    # For now, choose an action randomly\n",
    "    weights = fill(1.0/length(actionSpace), length(actionSpace))\n",
    "    action = sample(actionSpace, Weights(weights))\n",
    "    \n",
    "\n",
    "    \n",
    "    # Simulate taking that action\n",
    "    reachableStateSpace = getReachableStateSpace(boardInstance, action, cache)\n",
    "    weights = getTransitionProbabilities(reachableStateSpace, cache)\n",
    "    newBoardInstance = sample(reachableStateSpace, Weights(weights))\n",
    "    reward = getReward(boardInstance, action, reachableStateSpace, cache)\n",
    "    \n",
    "    # Update the reward\n",
    "    return reward + gameSim.gamma*rollout(gameSim, newBoardInstance, cache)\n",
    "end"
   ]
  },
  {
   "cell_type": "code",
   "execution_count": 27,
   "metadata": {},
   "outputs": [
    {
     "data": {
      "text/plain": [
       "simulate (generic function with 1 method)"
      ]
     },
     "execution_count": 27,
     "metadata": {},
     "output_type": "execute_result"
    }
   ],
   "source": [
    "function simulate(gameSim::GameSimulation,boardInstance::BoardInstance,cache::Cache)    \n",
    "    if checkTerminalState(boardInstance, cache)\n",
    "        # The game has ended\n",
    "        if length(boardInstance.emptyTiles) == 1\n",
    "            # We have one tile left to fill in an odd-number n board\n",
    "            newBoardInstance = BoardInstance(boardInstance.n, copy(boardInstance.board), copy(boardInstance.emptyTiles))\n",
    "            newBoardInstance.board[boardInstance.emptyTiles[1]] = X\n",
    "            if checkWin(newBoardInstance, Player(X), cache)\n",
    "                # Filling in that tile with X wins the game\n",
    "                return Int64(winReward)\n",
    "            end\n",
    "        end\n",
    "        return 0\n",
    "\n",
    "    end\n",
    "\n",
    "    \n",
    "    if !(boardInstance.board in gameSim.T)\n",
    "        # We haven't seen this state before\n",
    "        expand(gameSim, boardInstance, cache)\n",
    "        return rollout(gameSim, boardInstance, cache)\n",
    "    end\n",
    "    \n",
    "    # Choose the next action\n",
    "    action = explore(gameSim, boardInstance, cache)\n",
    "    \n",
    "    # Simulate taking that action\n",
    "    reachableStateSpace = getReachableStateSpace(boardInstance, action, cache)\n",
    "    weights = getTransitionProbabilities(reachableStateSpace, cache)\n",
    "    newBoardInstance = sample(reachableStateSpace, Weights(weights))\n",
    "    reward = getReward(boardInstance, action, reachableStateSpace, cache)\n",
    "    \n",
    "    q = reward + gameSim.gamma * simulate(gameSim, newBoardInstance, cache)\n",
    "    \n",
    "    gameSim.N_sa[(boardInstance.board,action)] += 1\n",
    "    gameSim.N_s[boardInstance.board] += 1\n",
    "    gameSim.Q_sa[(boardInstance.board,action)] += \n",
    "        ((q - gameSim.Q_sa[(boardInstance.board,action)]) / gameSim.N_sa[(boardInstance.board,action)])\n",
    "    return q\n",
    "end\n",
    "    \n",
    "\n",
    "\n",
    "    "
   ]
  },
  {
   "cell_type": "code",
   "execution_count": 28,
   "metadata": {},
   "outputs": [
    {
     "data": {
      "text/plain": [
       "selectAction (generic function with 1 method)"
      ]
     },
     "execution_count": 28,
     "metadata": {},
     "output_type": "execute_result"
    }
   ],
   "source": [
    "# Monte Carlo Tree Search\n",
    "# Skeletons of the code (Anuj is going to fully integrate it into Julia)\n",
    "# N_0(s,a) and Q_0(s,a) are both 0 \n",
    "    #(our priors each (state,action) count/value)\n",
    "# our policy pi_0 right now is makeRandomMove (feel free to change)\n",
    "function selectAction(gameSim::GameSimulation, boardInstance::BoardInstance, cache::Cache)\n",
    "    stop = false\n",
    "    iters = 0\n",
    "    # Before starting, choose a stopping condition (so it doesn't loop forever)\n",
    "    while !stop\n",
    "        simulate(gameSim, boardInstance, cache)\n",
    "        iters += 1\n",
    "        if iters > gameSim.nIterations\n",
    "            stop = true\n",
    "        end\n",
    "    end\n",
    "    \n",
    "    actionSpace = getReachableActionSpace(boardInstance, cache);\n",
    "    actionRewards = Dict(action=>0.0 for action in actionSpace)\n",
    "\n",
    "    # Maximize the cost function over all possible actions\n",
    "    for entry in gameSim.Q_sa\n",
    "        if entry[1][1] == boardInstance.board\n",
    "            actionRewards[entry[1][2]] = entry[2]\n",
    "        end\n",
    "    end\n",
    "#     return actionRewards\n",
    "    rewardsOut = zeros(boardInstance.n, boardInstance.n)\n",
    "    for entry in actionRewards\n",
    "       rewardsOut[entry[1]] = entry[2]\n",
    "    end\n",
    "# return rewardsOut\n",
    "    return findmax(rewardsOut)[2]\n",
    "end"
   ]
  },
  {
   "cell_type": "code",
   "execution_count": 29,
   "metadata": {},
   "outputs": [],
   "source": [
    "# # Test everything\n",
    "# n = 3\n",
    "# boardInstance = getFirstBoardInstance(n)\n",
    "# # game = TicTacToeGame( n, BoardInstance( [O E E;X O O;X X E] ) )\n",
    "# # game = TicTacToeGame( n, BoardInstance( [X E E; O O E; X E E] ) )\n",
    "# # game = TicTacToeGame( n, BoardInstance( [X E E; E O E; E E E] ) )\n",
    "# # game = TicTacToeGame( n, BoardInstance( [X O X E; O O X E; X E E E; E O E E] ) )\n",
    "# gameSim = getNewGameSim(50.0, 0.9, 1000)\n",
    "\n",
    "# cache = createCache()\n",
    "\n",
    "# selectAction(gameSim, boardInstance, cache)"
   ]
  },
  {
   "cell_type": "markdown",
   "metadata": {},
   "source": [
    "# Simulation"
   ]
  },
  {
   "cell_type": "code",
   "execution_count": 55,
   "metadata": {},
   "outputs": [
    {
     "data": {
      "text/plain": [
       "runSimulation (generic function with 1 method)"
      ]
     },
     "execution_count": 55,
     "metadata": {},
     "output_type": "execute_result"
    }
   ],
   "source": [
    "function runSimulation(c::Float64, numIterations::Int64, numRuns::Int64, n::Int64, cache::Cache)\n",
    "    rewards = zeros(numRuns)\n",
    "\n",
    "    for i = 1:numRuns\n",
    "        boardInstance = getFirstBoardInstance(n)\n",
    "        gameSim = getNewGameSim(c, 0.9, numIterations)\n",
    "        reward = 0\n",
    "        while !(checkTerminalState(boardInstance, cache))\n",
    "    #         println(\"Starting state: \", game.state.board)\n",
    "            # Choose the action to take per Monte Carlo\n",
    "            action = selectAction(gameSim, boardInstance, cache)\n",
    "    #         println(\"Action to take: \", action)\n",
    "\n",
    "\n",
    "\n",
    "            # Simulate taking that action\n",
    "            stateSpace = getReachableStateSpace(boardInstance, action, cache)\n",
    "            reward = getReward(boardInstance, action, stateSpace, cache)\n",
    "            weights = getTransitionProbabilities(stateSpace, cache)\n",
    "            boardInstance = sample(stateSpace, Weights(weights))\n",
    "    #         println(\"New state: \", game.state.board)\n",
    "    #         println(\"\")\n",
    "        end\n",
    "    #     if reward != Int64(winReward)\n",
    "    #         println(Int64(reward))\n",
    "    #         println(boardInstance.board)\n",
    "    #     end\n",
    "#         println(i)\n",
    "        rewards[i] = reward\n",
    "        \n",
    "    end\n",
    "\n",
    "#     println(\"Number of wins: \", length(findall(x->x==Int64(winReward), rewards)))\n",
    "    numWins = length(findall(x->x==Int64(winReward), rewards))\n",
    "#     numLosses = length(findall(x->x==Int64(drawReward), rewards))\n",
    "#     println(\"Number of ties: \", numLosses)\n",
    "#     println(\"Number of losses: \", length(findall(x->x==Int64(loseReward), rewards)))\n",
    "    return numWins/numRuns*100\n",
    "end"
   ]
  },
  {
   "cell_type": "code",
   "execution_count": 31,
   "metadata": {},
   "outputs": [
    {
     "data": {
      "text/plain": [
       "varyC (generic function with 1 method)"
      ]
     },
     "execution_count": 31,
     "metadata": {},
     "output_type": "execute_result"
    }
   ],
   "source": [
    "function varyC(cs, n::Int64, numRuns::Int64, numIterations::Int64)\n",
    "    cache = createCache()\n",
    "    rewardNumbers = []\n",
    "\n",
    "    for c in cs\n",
    "        print(c, \",\")\n",
    "        push!(rewardNumbers, runSimulation(c, numIterations, numRuns, n, cache))\n",
    "    end\n",
    "    println(\"\")\n",
    "    plot(cs, rewardNumbers, legend=false)\n",
    "#     title!(\"4x4\")\n",
    "    xlabel!(\"Exploration Constant c\")\n",
    "    ylabel!(\"Win Rate [%]\")\n",
    "end"
   ]
  },
  {
   "cell_type": "code",
   "execution_count": 32,
   "metadata": {},
   "outputs": [
    {
     "data": {
      "text/plain": [
       "varyNumIterations (generic function with 1 method)"
      ]
     },
     "execution_count": 32,
     "metadata": {},
     "output_type": "execute_result"
    }
   ],
   "source": [
    "function varyNumIterations(numsIterations, n::Int64, numRuns::Int64, c::Float64)\n",
    "    cache = createCache()\n",
    "    rewardNumbers = []\n",
    "\n",
    "    for numIterations in numsIterations\n",
    "        print(numIterations, \",\")\n",
    "        push!(rewardNumbers, runSimulation(c, numIterations, numRuns, n, cache))\n",
    "    end\n",
    "    println(\"\")\n",
    "    plot(numsIterations, rewardNumbers, legend=false)\n",
    "#     title!(\"4x4\")\n",
    "    xlabel!(\"Number of Monte Carlo Iterations\")\n",
    "    ylabel!(\"Win Rate [%]\")\n",
    "end"
   ]
  },
  {
   "cell_type": "code",
   "execution_count": 33,
   "metadata": {},
   "outputs": [],
   "source": [
    "# @time runSimulation(100.0, 500, 5, 4, createCache())"
   ]
  },
  {
   "cell_type": "markdown",
   "metadata": {},
   "source": [
    "### 3x3"
   ]
  },
  {
   "cell_type": "code",
   "execution_count": 36,
   "metadata": {},
   "outputs": [
    {
     "name": "stdout",
     "output_type": "stream",
     "text": [
      "0.0,2.0,4.0,6.0,8.0,10.0,12.0,14.0,16.0,18.0,20.0,22.0,24.0,26.0,28.0,30.0,32.0,34.0,36.0,38.0,40.0,42.0,44.0,46.0,48.0,50.0,52.0,54.0,56.0,58.0,60.0,62.0,64.0,66.0,68.0,70.0,72.0,74.0,76.0,78.0,80.0,82.0,84.0,86.0,88.0,90.0,\n",
      "341.548363 seconds (4.09 G allocations: 81.023 GiB, 4.64% gc time)\n"
     ]
    },
    {
     "data": {
      "image/svg+xml": [
       "<?xml version=\"1.0\" encoding=\"utf-8\"?>\n",
       "<svg xmlns=\"http://www.w3.org/2000/svg\" xmlns:xlink=\"http://www.w3.org/1999/xlink\" width=\"600\" height=\"400\" viewBox=\"0 0 2400 1600\">\n",
       "<defs>\n",
       "  <clipPath id=\"clip0600\">\n",
       "    <rect x=\"0\" y=\"0\" width=\"2400\" height=\"1600\"/>\n",
       "  </clipPath>\n",
       "</defs>\n",
       "<path clip-path=\"url(#clip0600)\" d=\"\n",
       "M0 1600 L2400 1600 L2400 0 L0 0  Z\n",
       "  \" fill=\"#ffffff\" fill-rule=\"evenodd\" fill-opacity=\"1\"/>\n",
       "<defs>\n",
       "  <clipPath id=\"clip0601\">\n",
       "    <rect x=\"480\" y=\"0\" width=\"1681\" height=\"1600\"/>\n",
       "  </clipPath>\n",
       "</defs>\n",
       "<path clip-path=\"url(#clip0600)\" d=\"\n",
       "M202.373 1425.62 L2352.76 1425.62 L2352.76 47.2441 L202.373 47.2441  Z\n",
       "  \" fill=\"#ffffff\" fill-rule=\"evenodd\" fill-opacity=\"1\"/>\n",
       "<defs>\n",
       "  <clipPath id=\"clip0602\">\n",
       "    <rect x=\"202\" y=\"47\" width=\"2151\" height=\"1379\"/>\n",
       "  </clipPath>\n",
       "</defs>\n",
       "<polyline clip-path=\"url(#clip0602)\" style=\"stroke:#000000; stroke-width:2; stroke-opacity:0.1; fill:none\" points=\"\n",
       "  263.233,1425.62 263.233,47.2441 \n",
       "  \"/>\n",
       "<polyline clip-path=\"url(#clip0602)\" style=\"stroke:#000000; stroke-width:2; stroke-opacity:0.1; fill:none\" points=\"\n",
       "  714.047,1425.62 714.047,47.2441 \n",
       "  \"/>\n",
       "<polyline clip-path=\"url(#clip0602)\" style=\"stroke:#000000; stroke-width:2; stroke-opacity:0.1; fill:none\" points=\"\n",
       "  1164.86,1425.62 1164.86,47.2441 \n",
       "  \"/>\n",
       "<polyline clip-path=\"url(#clip0602)\" style=\"stroke:#000000; stroke-width:2; stroke-opacity:0.1; fill:none\" points=\"\n",
       "  1615.67,1425.62 1615.67,47.2441 \n",
       "  \"/>\n",
       "<polyline clip-path=\"url(#clip0602)\" style=\"stroke:#000000; stroke-width:2; stroke-opacity:0.1; fill:none\" points=\"\n",
       "  2066.49,1425.62 2066.49,47.2441 \n",
       "  \"/>\n",
       "<polyline clip-path=\"url(#clip0602)\" style=\"stroke:#000000; stroke-width:2; stroke-opacity:0.1; fill:none\" points=\"\n",
       "  202.373,1382.36 2352.76,1382.36 \n",
       "  \"/>\n",
       "<polyline clip-path=\"url(#clip0602)\" style=\"stroke:#000000; stroke-width:2; stroke-opacity:0.1; fill:none\" points=\"\n",
       "  202.373,1212.38 2352.76,1212.38 \n",
       "  \"/>\n",
       "<polyline clip-path=\"url(#clip0602)\" style=\"stroke:#000000; stroke-width:2; stroke-opacity:0.1; fill:none\" points=\"\n",
       "  202.373,1042.4 2352.76,1042.4 \n",
       "  \"/>\n",
       "<polyline clip-path=\"url(#clip0602)\" style=\"stroke:#000000; stroke-width:2; stroke-opacity:0.1; fill:none\" points=\"\n",
       "  202.373,872.416 2352.76,872.416 \n",
       "  \"/>\n",
       "<polyline clip-path=\"url(#clip0602)\" style=\"stroke:#000000; stroke-width:2; stroke-opacity:0.1; fill:none\" points=\"\n",
       "  202.373,702.435 2352.76,702.435 \n",
       "  \"/>\n",
       "<polyline clip-path=\"url(#clip0602)\" style=\"stroke:#000000; stroke-width:2; stroke-opacity:0.1; fill:none\" points=\"\n",
       "  202.373,532.454 2352.76,532.454 \n",
       "  \"/>\n",
       "<polyline clip-path=\"url(#clip0602)\" style=\"stroke:#000000; stroke-width:2; stroke-opacity:0.1; fill:none\" points=\"\n",
       "  202.373,362.474 2352.76,362.474 \n",
       "  \"/>\n",
       "<polyline clip-path=\"url(#clip0602)\" style=\"stroke:#000000; stroke-width:2; stroke-opacity:0.1; fill:none\" points=\"\n",
       "  202.373,192.493 2352.76,192.493 \n",
       "  \"/>\n",
       "<polyline clip-path=\"url(#clip0600)\" style=\"stroke:#000000; stroke-width:4; stroke-opacity:1; fill:none\" points=\"\n",
       "  202.373,1425.62 2352.76,1425.62 \n",
       "  \"/>\n",
       "<polyline clip-path=\"url(#clip0600)\" style=\"stroke:#000000; stroke-width:4; stroke-opacity:1; fill:none\" points=\"\n",
       "  202.373,1425.62 202.373,47.2441 \n",
       "  \"/>\n",
       "<polyline clip-path=\"url(#clip0600)\" style=\"stroke:#000000; stroke-width:4; stroke-opacity:1; fill:none\" points=\"\n",
       "  263.233,1425.62 263.233,1404.94 \n",
       "  \"/>\n",
       "<polyline clip-path=\"url(#clip0600)\" style=\"stroke:#000000; stroke-width:4; stroke-opacity:1; fill:none\" points=\"\n",
       "  714.047,1425.62 714.047,1404.94 \n",
       "  \"/>\n",
       "<polyline clip-path=\"url(#clip0600)\" style=\"stroke:#000000; stroke-width:4; stroke-opacity:1; fill:none\" points=\"\n",
       "  1164.86,1425.62 1164.86,1404.94 \n",
       "  \"/>\n",
       "<polyline clip-path=\"url(#clip0600)\" style=\"stroke:#000000; stroke-width:4; stroke-opacity:1; fill:none\" points=\"\n",
       "  1615.67,1425.62 1615.67,1404.94 \n",
       "  \"/>\n",
       "<polyline clip-path=\"url(#clip0600)\" style=\"stroke:#000000; stroke-width:4; stroke-opacity:1; fill:none\" points=\"\n",
       "  2066.49,1425.62 2066.49,1404.94 \n",
       "  \"/>\n",
       "<polyline clip-path=\"url(#clip0600)\" style=\"stroke:#000000; stroke-width:4; stroke-opacity:1; fill:none\" points=\"\n",
       "  202.373,1382.36 234.629,1382.36 \n",
       "  \"/>\n",
       "<polyline clip-path=\"url(#clip0600)\" style=\"stroke:#000000; stroke-width:4; stroke-opacity:1; fill:none\" points=\"\n",
       "  202.373,1212.38 234.629,1212.38 \n",
       "  \"/>\n",
       "<polyline clip-path=\"url(#clip0600)\" style=\"stroke:#000000; stroke-width:4; stroke-opacity:1; fill:none\" points=\"\n",
       "  202.373,1042.4 234.629,1042.4 \n",
       "  \"/>\n",
       "<polyline clip-path=\"url(#clip0600)\" style=\"stroke:#000000; stroke-width:4; stroke-opacity:1; fill:none\" points=\"\n",
       "  202.373,872.416 234.629,872.416 \n",
       "  \"/>\n",
       "<polyline clip-path=\"url(#clip0600)\" style=\"stroke:#000000; stroke-width:4; stroke-opacity:1; fill:none\" points=\"\n",
       "  202.373,702.435 234.629,702.435 \n",
       "  \"/>\n",
       "<polyline clip-path=\"url(#clip0600)\" style=\"stroke:#000000; stroke-width:4; stroke-opacity:1; fill:none\" points=\"\n",
       "  202.373,532.454 234.629,532.454 \n",
       "  \"/>\n",
       "<polyline clip-path=\"url(#clip0600)\" style=\"stroke:#000000; stroke-width:4; stroke-opacity:1; fill:none\" points=\"\n",
       "  202.373,362.474 234.629,362.474 \n",
       "  \"/>\n",
       "<polyline clip-path=\"url(#clip0600)\" style=\"stroke:#000000; stroke-width:4; stroke-opacity:1; fill:none\" points=\"\n",
       "  202.373,192.493 234.629,192.493 \n",
       "  \"/>\n",
       "<g clip-path=\"url(#clip0600)\">\n",
       "<text style=\"fill:#000000; fill-opacity:1; font-family:Arial,Helvetica Neue,Helvetica,sans-serif; font-size:48px; text-anchor:middle;\" transform=\"rotate(0, 263.233, 1479.62)\" x=\"263.233\" y=\"1479.62\">0</text>\n",
       "</g>\n",
       "<g clip-path=\"url(#clip0600)\">\n",
       "<text style=\"fill:#000000; fill-opacity:1; font-family:Arial,Helvetica Neue,Helvetica,sans-serif; font-size:48px; text-anchor:middle;\" transform=\"rotate(0, 714.047, 1479.62)\" x=\"714.047\" y=\"1479.62\">20</text>\n",
       "</g>\n",
       "<g clip-path=\"url(#clip0600)\">\n",
       "<text style=\"fill:#000000; fill-opacity:1; font-family:Arial,Helvetica Neue,Helvetica,sans-serif; font-size:48px; text-anchor:middle;\" transform=\"rotate(0, 1164.86, 1479.62)\" x=\"1164.86\" y=\"1479.62\">40</text>\n",
       "</g>\n",
       "<g clip-path=\"url(#clip0600)\">\n",
       "<text style=\"fill:#000000; fill-opacity:1; font-family:Arial,Helvetica Neue,Helvetica,sans-serif; font-size:48px; text-anchor:middle;\" transform=\"rotate(0, 1615.67, 1479.62)\" x=\"1615.67\" y=\"1479.62\">60</text>\n",
       "</g>\n",
       "<g clip-path=\"url(#clip0600)\">\n",
       "<text style=\"fill:#000000; fill-opacity:1; font-family:Arial,Helvetica Neue,Helvetica,sans-serif; font-size:48px; text-anchor:middle;\" transform=\"rotate(0, 2066.49, 1479.62)\" x=\"2066.49\" y=\"1479.62\">80</text>\n",
       "</g>\n",
       "<g clip-path=\"url(#clip0600)\">\n",
       "<text style=\"fill:#000000; fill-opacity:1; font-family:Arial,Helvetica Neue,Helvetica,sans-serif; font-size:48px; text-anchor:end;\" transform=\"rotate(0, 178.373, 1399.86)\" x=\"178.373\" y=\"1399.86\">78</text>\n",
       "</g>\n",
       "<g clip-path=\"url(#clip0600)\">\n",
       "<text style=\"fill:#000000; fill-opacity:1; font-family:Arial,Helvetica Neue,Helvetica,sans-serif; font-size:48px; text-anchor:end;\" transform=\"rotate(0, 178.373, 1229.88)\" x=\"178.373\" y=\"1229.88\">80</text>\n",
       "</g>\n",
       "<g clip-path=\"url(#clip0600)\">\n",
       "<text style=\"fill:#000000; fill-opacity:1; font-family:Arial,Helvetica Neue,Helvetica,sans-serif; font-size:48px; text-anchor:end;\" transform=\"rotate(0, 178.373, 1059.9)\" x=\"178.373\" y=\"1059.9\">82</text>\n",
       "</g>\n",
       "<g clip-path=\"url(#clip0600)\">\n",
       "<text style=\"fill:#000000; fill-opacity:1; font-family:Arial,Helvetica Neue,Helvetica,sans-serif; font-size:48px; text-anchor:end;\" transform=\"rotate(0, 178.373, 889.916)\" x=\"178.373\" y=\"889.916\">84</text>\n",
       "</g>\n",
       "<g clip-path=\"url(#clip0600)\">\n",
       "<text style=\"fill:#000000; fill-opacity:1; font-family:Arial,Helvetica Neue,Helvetica,sans-serif; font-size:48px; text-anchor:end;\" transform=\"rotate(0, 178.373, 719.935)\" x=\"178.373\" y=\"719.935\">86</text>\n",
       "</g>\n",
       "<g clip-path=\"url(#clip0600)\">\n",
       "<text style=\"fill:#000000; fill-opacity:1; font-family:Arial,Helvetica Neue,Helvetica,sans-serif; font-size:48px; text-anchor:end;\" transform=\"rotate(0, 178.373, 549.954)\" x=\"178.373\" y=\"549.954\">88</text>\n",
       "</g>\n",
       "<g clip-path=\"url(#clip0600)\">\n",
       "<text style=\"fill:#000000; fill-opacity:1; font-family:Arial,Helvetica Neue,Helvetica,sans-serif; font-size:48px; text-anchor:end;\" transform=\"rotate(0, 178.373, 379.974)\" x=\"178.373\" y=\"379.974\">90</text>\n",
       "</g>\n",
       "<g clip-path=\"url(#clip0600)\">\n",
       "<text style=\"fill:#000000; fill-opacity:1; font-family:Arial,Helvetica Neue,Helvetica,sans-serif; font-size:48px; text-anchor:end;\" transform=\"rotate(0, 178.373, 209.993)\" x=\"178.373\" y=\"209.993\">92</text>\n",
       "</g>\n",
       "<g clip-path=\"url(#clip0600)\">\n",
       "<text style=\"fill:#000000; fill-opacity:1; font-family:Arial,Helvetica Neue,Helvetica,sans-serif; font-size:66px; text-anchor:middle;\" transform=\"rotate(0, 1277.56, 1559.48)\" x=\"1277.56\" y=\"1559.48\">Exploration Constant c</text>\n",
       "</g>\n",
       "<g clip-path=\"url(#clip0600)\">\n",
       "<text style=\"fill:#000000; fill-opacity:1; font-family:Arial,Helvetica Neue,Helvetica,sans-serif; font-size:66px; text-anchor:middle;\" transform=\"rotate(-90, 89.2861, 736.431)\" x=\"89.2861\" y=\"736.431\">Win Rate [%]</text>\n",
       "</g>\n",
       "<polyline clip-path=\"url(#clip0602)\" style=\"stroke:#009af9; stroke-width:4; stroke-opacity:1; fill:none\" points=\"\n",
       "  263.233,1233.63 308.314,1378.11 353.396,1220.88 398.477,1250.62 443.558,1165.63 488.64,1339.86 533.721,1386.61 578.803,1225.13 623.884,1259.12 668.965,1165.63 \n",
       "  714.047,1178.38 759.128,1152.88 804.21,1080.64 849.291,982.904 894.372,1033.9 939.454,1029.65 984.535,1038.15 1029.62,838.42 1074.7,723.683 1119.78,744.93 \n",
       "  1164.86,753.429 1209.94,659.94 1255.02,664.19 1300.11,710.934 1345.19,774.677 1390.27,583.449 1435.35,659.94 1480.43,489.959 1525.51,591.948 1570.59,540.953 \n",
       "  1615.67,557.951 1660.76,443.214 1705.84,294.481 1750.92,247.736 1796,234.988 1841.08,179.744 1886.16,128.75 1931.24,149.998 1976.33,116.001 2021.41,196.742 \n",
       "  2066.49,162.746 2111.57,86.2547 2156.65,149.998 2201.73,124.5 2246.81,166.996 2291.9,107.502 \n",
       "  \"/>\n",
       "</svg>\n"
      ]
     },
     "execution_count": 36,
     "metadata": {},
     "output_type": "execute_result"
    }
   ],
   "source": [
    "@time varyC(0.0:2.0:100.0, 3, 2000, 15)"
   ]
  },
  {
   "cell_type": "code",
   "execution_count": 34,
   "metadata": {},
   "outputs": [
    {
     "name": "stdout",
     "output_type": "stream",
     "text": [
      "1,2,3,4,5,6,7,8,9,10,11,12,13,14,15,16,17,18,19,20,21,22,23,24,25,26,27,28,29,30,\n",
      "248.134774 seconds (2.51 G allocations: 51.648 GiB, 6.05% gc time)\n"
     ]
    },
    {
     "data": {
      "image/svg+xml": [
       "<?xml version=\"1.0\" encoding=\"utf-8\"?>\n",
       "<svg xmlns=\"http://www.w3.org/2000/svg\" xmlns:xlink=\"http://www.w3.org/1999/xlink\" width=\"600\" height=\"400\" viewBox=\"0 0 2400 1600\">\n",
       "<defs>\n",
       "  <clipPath id=\"clip0200\">\n",
       "    <rect x=\"0\" y=\"0\" width=\"2400\" height=\"1600\"/>\n",
       "  </clipPath>\n",
       "</defs>\n",
       "<path clip-path=\"url(#clip0200)\" d=\"\n",
       "M0 1600 L2400 1600 L2400 0 L0 0  Z\n",
       "  \" fill=\"#ffffff\" fill-rule=\"evenodd\" fill-opacity=\"1\"/>\n",
       "<defs>\n",
       "  <clipPath id=\"clip0201\">\n",
       "    <rect x=\"480\" y=\"0\" width=\"1681\" height=\"1600\"/>\n",
       "  </clipPath>\n",
       "</defs>\n",
       "<path clip-path=\"url(#clip0200)\" d=\"\n",
       "M202.373 1425.62 L2352.76 1425.62 L2352.76 47.2441 L202.373 47.2441  Z\n",
       "  \" fill=\"#ffffff\" fill-rule=\"evenodd\" fill-opacity=\"1\"/>\n",
       "<defs>\n",
       "  <clipPath id=\"clip0202\">\n",
       "    <rect x=\"202\" y=\"47\" width=\"2151\" height=\"1379\"/>\n",
       "  </clipPath>\n",
       "</defs>\n",
       "<polyline clip-path=\"url(#clip0202)\" style=\"stroke:#000000; stroke-width:2; stroke-opacity:0.1; fill:none\" points=\"\n",
       "  543.048,1425.62 543.048,47.2441 \n",
       "  \"/>\n",
       "<polyline clip-path=\"url(#clip0202)\" style=\"stroke:#000000; stroke-width:2; stroke-opacity:0.1; fill:none\" points=\"\n",
       "  892.818,1425.62 892.818,47.2441 \n",
       "  \"/>\n",
       "<polyline clip-path=\"url(#clip0202)\" style=\"stroke:#000000; stroke-width:2; stroke-opacity:0.1; fill:none\" points=\"\n",
       "  1242.59,1425.62 1242.59,47.2441 \n",
       "  \"/>\n",
       "<polyline clip-path=\"url(#clip0202)\" style=\"stroke:#000000; stroke-width:2; stroke-opacity:0.1; fill:none\" points=\"\n",
       "  1592.36,1425.62 1592.36,47.2441 \n",
       "  \"/>\n",
       "<polyline clip-path=\"url(#clip0202)\" style=\"stroke:#000000; stroke-width:2; stroke-opacity:0.1; fill:none\" points=\"\n",
       "  1942.13,1425.62 1942.13,47.2441 \n",
       "  \"/>\n",
       "<polyline clip-path=\"url(#clip0202)\" style=\"stroke:#000000; stroke-width:2; stroke-opacity:0.1; fill:none\" points=\"\n",
       "  2291.9,1425.62 2291.9,47.2441 \n",
       "  \"/>\n",
       "<polyline clip-path=\"url(#clip0202)\" style=\"stroke:#000000; stroke-width:2; stroke-opacity:0.1; fill:none\" points=\"\n",
       "  202.373,1312.54 2352.76,1312.54 \n",
       "  \"/>\n",
       "<polyline clip-path=\"url(#clip0202)\" style=\"stroke:#000000; stroke-width:2; stroke-opacity:0.1; fill:none\" points=\"\n",
       "  202.373,1072.49 2352.76,1072.49 \n",
       "  \"/>\n",
       "<polyline clip-path=\"url(#clip0202)\" style=\"stroke:#000000; stroke-width:2; stroke-opacity:0.1; fill:none\" points=\"\n",
       "  202.373,832.449 2352.76,832.449 \n",
       "  \"/>\n",
       "<polyline clip-path=\"url(#clip0202)\" style=\"stroke:#000000; stroke-width:2; stroke-opacity:0.1; fill:none\" points=\"\n",
       "  202.373,592.405 2352.76,592.405 \n",
       "  \"/>\n",
       "<polyline clip-path=\"url(#clip0202)\" style=\"stroke:#000000; stroke-width:2; stroke-opacity:0.1; fill:none\" points=\"\n",
       "  202.373,352.361 2352.76,352.361 \n",
       "  \"/>\n",
       "<polyline clip-path=\"url(#clip0202)\" style=\"stroke:#000000; stroke-width:2; stroke-opacity:0.1; fill:none\" points=\"\n",
       "  202.373,112.317 2352.76,112.317 \n",
       "  \"/>\n",
       "<polyline clip-path=\"url(#clip0200)\" style=\"stroke:#000000; stroke-width:4; stroke-opacity:1; fill:none\" points=\"\n",
       "  202.373,1425.62 2352.76,1425.62 \n",
       "  \"/>\n",
       "<polyline clip-path=\"url(#clip0200)\" style=\"stroke:#000000; stroke-width:4; stroke-opacity:1; fill:none\" points=\"\n",
       "  202.373,1425.62 202.373,47.2441 \n",
       "  \"/>\n",
       "<polyline clip-path=\"url(#clip0200)\" style=\"stroke:#000000; stroke-width:4; stroke-opacity:1; fill:none\" points=\"\n",
       "  543.048,1425.62 543.048,1404.94 \n",
       "  \"/>\n",
       "<polyline clip-path=\"url(#clip0200)\" style=\"stroke:#000000; stroke-width:4; stroke-opacity:1; fill:none\" points=\"\n",
       "  892.818,1425.62 892.818,1404.94 \n",
       "  \"/>\n",
       "<polyline clip-path=\"url(#clip0200)\" style=\"stroke:#000000; stroke-width:4; stroke-opacity:1; fill:none\" points=\"\n",
       "  1242.59,1425.62 1242.59,1404.94 \n",
       "  \"/>\n",
       "<polyline clip-path=\"url(#clip0200)\" style=\"stroke:#000000; stroke-width:4; stroke-opacity:1; fill:none\" points=\"\n",
       "  1592.36,1425.62 1592.36,1404.94 \n",
       "  \"/>\n",
       "<polyline clip-path=\"url(#clip0200)\" style=\"stroke:#000000; stroke-width:4; stroke-opacity:1; fill:none\" points=\"\n",
       "  1942.13,1425.62 1942.13,1404.94 \n",
       "  \"/>\n",
       "<polyline clip-path=\"url(#clip0200)\" style=\"stroke:#000000; stroke-width:4; stroke-opacity:1; fill:none\" points=\"\n",
       "  2291.9,1425.62 2291.9,1404.94 \n",
       "  \"/>\n",
       "<polyline clip-path=\"url(#clip0200)\" style=\"stroke:#000000; stroke-width:4; stroke-opacity:1; fill:none\" points=\"\n",
       "  202.373,1312.54 234.629,1312.54 \n",
       "  \"/>\n",
       "<polyline clip-path=\"url(#clip0200)\" style=\"stroke:#000000; stroke-width:4; stroke-opacity:1; fill:none\" points=\"\n",
       "  202.373,1072.49 234.629,1072.49 \n",
       "  \"/>\n",
       "<polyline clip-path=\"url(#clip0200)\" style=\"stroke:#000000; stroke-width:4; stroke-opacity:1; fill:none\" points=\"\n",
       "  202.373,832.449 234.629,832.449 \n",
       "  \"/>\n",
       "<polyline clip-path=\"url(#clip0200)\" style=\"stroke:#000000; stroke-width:4; stroke-opacity:1; fill:none\" points=\"\n",
       "  202.373,592.405 234.629,592.405 \n",
       "  \"/>\n",
       "<polyline clip-path=\"url(#clip0200)\" style=\"stroke:#000000; stroke-width:4; stroke-opacity:1; fill:none\" points=\"\n",
       "  202.373,352.361 234.629,352.361 \n",
       "  \"/>\n",
       "<polyline clip-path=\"url(#clip0200)\" style=\"stroke:#000000; stroke-width:4; stroke-opacity:1; fill:none\" points=\"\n",
       "  202.373,112.317 234.629,112.317 \n",
       "  \"/>\n",
       "<g clip-path=\"url(#clip0200)\">\n",
       "<text style=\"fill:#000000; fill-opacity:1; font-family:Arial,Helvetica Neue,Helvetica,sans-serif; font-size:48px; text-anchor:middle;\" transform=\"rotate(0, 543.048, 1479.62)\" x=\"543.048\" y=\"1479.62\">5</text>\n",
       "</g>\n",
       "<g clip-path=\"url(#clip0200)\">\n",
       "<text style=\"fill:#000000; fill-opacity:1; font-family:Arial,Helvetica Neue,Helvetica,sans-serif; font-size:48px; text-anchor:middle;\" transform=\"rotate(0, 892.818, 1479.62)\" x=\"892.818\" y=\"1479.62\">10</text>\n",
       "</g>\n",
       "<g clip-path=\"url(#clip0200)\">\n",
       "<text style=\"fill:#000000; fill-opacity:1; font-family:Arial,Helvetica Neue,Helvetica,sans-serif; font-size:48px; text-anchor:middle;\" transform=\"rotate(0, 1242.59, 1479.62)\" x=\"1242.59\" y=\"1479.62\">15</text>\n",
       "</g>\n",
       "<g clip-path=\"url(#clip0200)\">\n",
       "<text style=\"fill:#000000; fill-opacity:1; font-family:Arial,Helvetica Neue,Helvetica,sans-serif; font-size:48px; text-anchor:middle;\" transform=\"rotate(0, 1592.36, 1479.62)\" x=\"1592.36\" y=\"1479.62\">20</text>\n",
       "</g>\n",
       "<g clip-path=\"url(#clip0200)\">\n",
       "<text style=\"fill:#000000; fill-opacity:1; font-family:Arial,Helvetica Neue,Helvetica,sans-serif; font-size:48px; text-anchor:middle;\" transform=\"rotate(0, 1942.13, 1479.62)\" x=\"1942.13\" y=\"1479.62\">25</text>\n",
       "</g>\n",
       "<g clip-path=\"url(#clip0200)\">\n",
       "<text style=\"fill:#000000; fill-opacity:1; font-family:Arial,Helvetica Neue,Helvetica,sans-serif; font-size:48px; text-anchor:middle;\" transform=\"rotate(0, 2291.9, 1479.62)\" x=\"2291.9\" y=\"1479.62\">30</text>\n",
       "</g>\n",
       "<g clip-path=\"url(#clip0200)\">\n",
       "<text style=\"fill:#000000; fill-opacity:1; font-family:Arial,Helvetica Neue,Helvetica,sans-serif; font-size:48px; text-anchor:end;\" transform=\"rotate(0, 178.373, 1330.04)\" x=\"178.373\" y=\"1330.04\">70</text>\n",
       "</g>\n",
       "<g clip-path=\"url(#clip0200)\">\n",
       "<text style=\"fill:#000000; fill-opacity:1; font-family:Arial,Helvetica Neue,Helvetica,sans-serif; font-size:48px; text-anchor:end;\" transform=\"rotate(0, 178.373, 1089.99)\" x=\"178.373\" y=\"1089.99\">75</text>\n",
       "</g>\n",
       "<g clip-path=\"url(#clip0200)\">\n",
       "<text style=\"fill:#000000; fill-opacity:1; font-family:Arial,Helvetica Neue,Helvetica,sans-serif; font-size:48px; text-anchor:end;\" transform=\"rotate(0, 178.373, 849.949)\" x=\"178.373\" y=\"849.949\">80</text>\n",
       "</g>\n",
       "<g clip-path=\"url(#clip0200)\">\n",
       "<text style=\"fill:#000000; fill-opacity:1; font-family:Arial,Helvetica Neue,Helvetica,sans-serif; font-size:48px; text-anchor:end;\" transform=\"rotate(0, 178.373, 609.905)\" x=\"178.373\" y=\"609.905\">85</text>\n",
       "</g>\n",
       "<g clip-path=\"url(#clip0200)\">\n",
       "<text style=\"fill:#000000; fill-opacity:1; font-family:Arial,Helvetica Neue,Helvetica,sans-serif; font-size:48px; text-anchor:end;\" transform=\"rotate(0, 178.373, 369.861)\" x=\"178.373\" y=\"369.861\">90</text>\n",
       "</g>\n",
       "<g clip-path=\"url(#clip0200)\">\n",
       "<text style=\"fill:#000000; fill-opacity:1; font-family:Arial,Helvetica Neue,Helvetica,sans-serif; font-size:48px; text-anchor:end;\" transform=\"rotate(0, 178.373, 129.817)\" x=\"178.373\" y=\"129.817\">95</text>\n",
       "</g>\n",
       "<g clip-path=\"url(#clip0200)\">\n",
       "<text style=\"fill:#000000; fill-opacity:1; font-family:Arial,Helvetica Neue,Helvetica,sans-serif; font-size:66px; text-anchor:middle;\" transform=\"rotate(0, 1277.56, 1559.48)\" x=\"1277.56\" y=\"1559.48\">Number of Monte Carlo Iterations</text>\n",
       "</g>\n",
       "<g clip-path=\"url(#clip0200)\">\n",
       "<text style=\"fill:#000000; fill-opacity:1; font-family:Arial,Helvetica Neue,Helvetica,sans-serif; font-size:66px; text-anchor:middle;\" transform=\"rotate(-90, 89.2861, 736.431)\" x=\"89.2861\" y=\"736.431\">Win Rate [%]</text>\n",
       "</g>\n",
       "<polyline clip-path=\"url(#clip0202)\" style=\"stroke:#009af9; stroke-width:4; stroke-opacity:1; fill:none\" points=\"\n",
       "  263.233,1106.79 333.187,1386.61 403.141,1342.71 473.095,901.033 543.048,824.219 613.002,695.281 682.956,670.591 752.91,541.653 822.864,544.396 892.818,516.962 \n",
       "  962.772,519.706 1032.73,467.582 1102.68,462.095 1172.63,294.75 1242.59,267.317 1312.54,220.679 1382.5,198.733 1452.45,193.246 1522.4,179.529 1592.36,179.529 \n",
       "  1662.31,149.352 1732.26,110.945 1802.22,160.325 1872.17,132.892 1942.13,105.458 2012.08,116.432 2082.03,130.148 2151.99,86.2547 2221.94,102.715 2291.9,130.148 \n",
       "  \n",
       "  \"/>\n",
       "</svg>\n"
      ]
     },
     "execution_count": 34,
     "metadata": {},
     "output_type": "execute_result"
    }
   ],
   "source": [
    "@time varyNumIterations(1:1:30, 3, 1750, 65.0)"
   ]
  },
  {
   "cell_type": "markdown",
   "metadata": {},
   "source": [
    "### 4x4"
   ]
  },
  {
   "cell_type": "code",
   "execution_count": null,
   "metadata": {},
   "outputs": [],
   "source": [
    "@time varyC(0.0:20.0:220.0, 4, 750, 25)"
   ]
  },
  {
   "cell_type": "code",
   "execution_count": 34,
   "metadata": {},
   "outputs": [
    {
     "name": "stdout",
     "output_type": "stream",
     "text": [
      "1,3,5,7,9,11,13,15,17,19,21,23,25,27,\n",
      "497.726723 seconds (2.73 G allocations: 70.015 GiB, 49.24% gc time)\n"
     ]
    },
    {
     "data": {
      "image/svg+xml": [
       "<?xml version=\"1.0\" encoding=\"utf-8\"?>\n",
       "<svg xmlns=\"http://www.w3.org/2000/svg\" xmlns:xlink=\"http://www.w3.org/1999/xlink\" width=\"600\" height=\"400\" viewBox=\"0 0 2400 1600\">\n",
       "<defs>\n",
       "  <clipPath id=\"clip6800\">\n",
       "    <rect x=\"0\" y=\"0\" width=\"2400\" height=\"1600\"/>\n",
       "  </clipPath>\n",
       "</defs>\n",
       "<path clip-path=\"url(#clip6800)\" d=\"\n",
       "M0 1600 L2400 1600 L2400 0 L0 0  Z\n",
       "  \" fill=\"#ffffff\" fill-rule=\"evenodd\" fill-opacity=\"1\"/>\n",
       "<defs>\n",
       "  <clipPath id=\"clip6801\">\n",
       "    <rect x=\"480\" y=\"0\" width=\"1681\" height=\"1600\"/>\n",
       "  </clipPath>\n",
       "</defs>\n",
       "<path clip-path=\"url(#clip6800)\" d=\"\n",
       "M202.373 1425.62 L2352.76 1425.62 L2352.76 47.2441 L202.373 47.2441  Z\n",
       "  \" fill=\"#ffffff\" fill-rule=\"evenodd\" fill-opacity=\"1\"/>\n",
       "<defs>\n",
       "  <clipPath id=\"clip6802\">\n",
       "    <rect x=\"202\" y=\"47\" width=\"2151\" height=\"1379\"/>\n",
       "  </clipPath>\n",
       "</defs>\n",
       "<polyline clip-path=\"url(#clip6802)\" style=\"stroke:#000000; stroke-width:2; stroke-opacity:0.1; fill:none\" points=\"\n",
       "  575.335,1425.62 575.335,47.2441 \n",
       "  \"/>\n",
       "<polyline clip-path=\"url(#clip6802)\" style=\"stroke:#000000; stroke-width:2; stroke-opacity:0.1; fill:none\" points=\"\n",
       "  965.462,1425.62 965.462,47.2441 \n",
       "  \"/>\n",
       "<polyline clip-path=\"url(#clip6802)\" style=\"stroke:#000000; stroke-width:2; stroke-opacity:0.1; fill:none\" points=\"\n",
       "  1355.59,1425.62 1355.59,47.2441 \n",
       "  \"/>\n",
       "<polyline clip-path=\"url(#clip6802)\" style=\"stroke:#000000; stroke-width:2; stroke-opacity:0.1; fill:none\" points=\"\n",
       "  1745.72,1425.62 1745.72,47.2441 \n",
       "  \"/>\n",
       "<polyline clip-path=\"url(#clip6802)\" style=\"stroke:#000000; stroke-width:2; stroke-opacity:0.1; fill:none\" points=\"\n",
       "  2135.84,1425.62 2135.84,47.2441 \n",
       "  \"/>\n",
       "<polyline clip-path=\"url(#clip6802)\" style=\"stroke:#000000; stroke-width:2; stroke-opacity:0.1; fill:none\" points=\"\n",
       "  202.373,1224.06 2352.76,1224.06 \n",
       "  \"/>\n",
       "<polyline clip-path=\"url(#clip6802)\" style=\"stroke:#000000; stroke-width:2; stroke-opacity:0.1; fill:none\" points=\"\n",
       "  202.373,953.157 2352.76,953.157 \n",
       "  \"/>\n",
       "<polyline clip-path=\"url(#clip6802)\" style=\"stroke:#000000; stroke-width:2; stroke-opacity:0.1; fill:none\" points=\"\n",
       "  202.373,682.25 2352.76,682.25 \n",
       "  \"/>\n",
       "<polyline clip-path=\"url(#clip6802)\" style=\"stroke:#000000; stroke-width:2; stroke-opacity:0.1; fill:none\" points=\"\n",
       "  202.373,411.343 2352.76,411.343 \n",
       "  \"/>\n",
       "<polyline clip-path=\"url(#clip6802)\" style=\"stroke:#000000; stroke-width:2; stroke-opacity:0.1; fill:none\" points=\"\n",
       "  202.373,140.436 2352.76,140.436 \n",
       "  \"/>\n",
       "<polyline clip-path=\"url(#clip6800)\" style=\"stroke:#000000; stroke-width:4; stroke-opacity:1; fill:none\" points=\"\n",
       "  202.373,1425.62 2352.76,1425.62 \n",
       "  \"/>\n",
       "<polyline clip-path=\"url(#clip6800)\" style=\"stroke:#000000; stroke-width:4; stroke-opacity:1; fill:none\" points=\"\n",
       "  202.373,1425.62 202.373,47.2441 \n",
       "  \"/>\n",
       "<polyline clip-path=\"url(#clip6800)\" style=\"stroke:#000000; stroke-width:4; stroke-opacity:1; fill:none\" points=\"\n",
       "  575.335,1425.62 575.335,1404.94 \n",
       "  \"/>\n",
       "<polyline clip-path=\"url(#clip6800)\" style=\"stroke:#000000; stroke-width:4; stroke-opacity:1; fill:none\" points=\"\n",
       "  965.462,1425.62 965.462,1404.94 \n",
       "  \"/>\n",
       "<polyline clip-path=\"url(#clip6800)\" style=\"stroke:#000000; stroke-width:4; stroke-opacity:1; fill:none\" points=\"\n",
       "  1355.59,1425.62 1355.59,1404.94 \n",
       "  \"/>\n",
       "<polyline clip-path=\"url(#clip6800)\" style=\"stroke:#000000; stroke-width:4; stroke-opacity:1; fill:none\" points=\"\n",
       "  1745.72,1425.62 1745.72,1404.94 \n",
       "  \"/>\n",
       "<polyline clip-path=\"url(#clip6800)\" style=\"stroke:#000000; stroke-width:4; stroke-opacity:1; fill:none\" points=\"\n",
       "  2135.84,1425.62 2135.84,1404.94 \n",
       "  \"/>\n",
       "<polyline clip-path=\"url(#clip6800)\" style=\"stroke:#000000; stroke-width:4; stroke-opacity:1; fill:none\" points=\"\n",
       "  202.373,1224.06 234.629,1224.06 \n",
       "  \"/>\n",
       "<polyline clip-path=\"url(#clip6800)\" style=\"stroke:#000000; stroke-width:4; stroke-opacity:1; fill:none\" points=\"\n",
       "  202.373,953.157 234.629,953.157 \n",
       "  \"/>\n",
       "<polyline clip-path=\"url(#clip6800)\" style=\"stroke:#000000; stroke-width:4; stroke-opacity:1; fill:none\" points=\"\n",
       "  202.373,682.25 234.629,682.25 \n",
       "  \"/>\n",
       "<polyline clip-path=\"url(#clip6800)\" style=\"stroke:#000000; stroke-width:4; stroke-opacity:1; fill:none\" points=\"\n",
       "  202.373,411.343 234.629,411.343 \n",
       "  \"/>\n",
       "<polyline clip-path=\"url(#clip6800)\" style=\"stroke:#000000; stroke-width:4; stroke-opacity:1; fill:none\" points=\"\n",
       "  202.373,140.436 234.629,140.436 \n",
       "  \"/>\n",
       "<g clip-path=\"url(#clip6800)\">\n",
       "<text style=\"fill:#000000; fill-opacity:1; font-family:Arial,Helvetica Neue,Helvetica,sans-serif; font-size:48px; text-anchor:middle;\" transform=\"rotate(0, 575.335, 1479.62)\" x=\"575.335\" y=\"1479.62\">5</text>\n",
       "</g>\n",
       "<g clip-path=\"url(#clip6800)\">\n",
       "<text style=\"fill:#000000; fill-opacity:1; font-family:Arial,Helvetica Neue,Helvetica,sans-serif; font-size:48px; text-anchor:middle;\" transform=\"rotate(0, 965.462, 1479.62)\" x=\"965.462\" y=\"1479.62\">10</text>\n",
       "</g>\n",
       "<g clip-path=\"url(#clip6800)\">\n",
       "<text style=\"fill:#000000; fill-opacity:1; font-family:Arial,Helvetica Neue,Helvetica,sans-serif; font-size:48px; text-anchor:middle;\" transform=\"rotate(0, 1355.59, 1479.62)\" x=\"1355.59\" y=\"1479.62\">15</text>\n",
       "</g>\n",
       "<g clip-path=\"url(#clip6800)\">\n",
       "<text style=\"fill:#000000; fill-opacity:1; font-family:Arial,Helvetica Neue,Helvetica,sans-serif; font-size:48px; text-anchor:middle;\" transform=\"rotate(0, 1745.72, 1479.62)\" x=\"1745.72\" y=\"1479.62\">20</text>\n",
       "</g>\n",
       "<g clip-path=\"url(#clip6800)\">\n",
       "<text style=\"fill:#000000; fill-opacity:1; font-family:Arial,Helvetica Neue,Helvetica,sans-serif; font-size:48px; text-anchor:middle;\" transform=\"rotate(0, 2135.84, 1479.62)\" x=\"2135.84\" y=\"1479.62\">25</text>\n",
       "</g>\n",
       "<g clip-path=\"url(#clip6800)\">\n",
       "<text style=\"fill:#000000; fill-opacity:1; font-family:Arial,Helvetica Neue,Helvetica,sans-serif; font-size:48px; text-anchor:end;\" transform=\"rotate(0, 178.373, 1241.56)\" x=\"178.373\" y=\"1241.56\">69</text>\n",
       "</g>\n",
       "<g clip-path=\"url(#clip6800)\">\n",
       "<text style=\"fill:#000000; fill-opacity:1; font-family:Arial,Helvetica Neue,Helvetica,sans-serif; font-size:48px; text-anchor:end;\" transform=\"rotate(0, 178.373, 970.657)\" x=\"178.373\" y=\"970.657\">72</text>\n",
       "</g>\n",
       "<g clip-path=\"url(#clip6800)\">\n",
       "<text style=\"fill:#000000; fill-opacity:1; font-family:Arial,Helvetica Neue,Helvetica,sans-serif; font-size:48px; text-anchor:end;\" transform=\"rotate(0, 178.373, 699.75)\" x=\"178.373\" y=\"699.75\">75</text>\n",
       "</g>\n",
       "<g clip-path=\"url(#clip6800)\">\n",
       "<text style=\"fill:#000000; fill-opacity:1; font-family:Arial,Helvetica Neue,Helvetica,sans-serif; font-size:48px; text-anchor:end;\" transform=\"rotate(0, 178.373, 428.843)\" x=\"178.373\" y=\"428.843\">78</text>\n",
       "</g>\n",
       "<g clip-path=\"url(#clip6800)\">\n",
       "<text style=\"fill:#000000; fill-opacity:1; font-family:Arial,Helvetica Neue,Helvetica,sans-serif; font-size:48px; text-anchor:end;\" transform=\"rotate(0, 178.373, 157.936)\" x=\"178.373\" y=\"157.936\">81</text>\n",
       "</g>\n",
       "<g clip-path=\"url(#clip6800)\">\n",
       "<text style=\"fill:#000000; fill-opacity:1; font-family:Arial,Helvetica Neue,Helvetica,sans-serif; font-size:66px; text-anchor:middle;\" transform=\"rotate(0, 1277.56, 1559.48)\" x=\"1277.56\" y=\"1559.48\">Number of Monte Carlo Iterations</text>\n",
       "</g>\n",
       "<g clip-path=\"url(#clip6800)\">\n",
       "<text style=\"fill:#000000; fill-opacity:1; font-family:Arial,Helvetica Neue,Helvetica,sans-serif; font-size:66px; text-anchor:middle;\" transform=\"rotate(-90, 89.2861, 736.431)\" x=\"89.2861\" y=\"736.431\">Win Rate [%]</text>\n",
       "</g>\n",
       "<polyline clip-path=\"url(#clip6802)\" style=\"stroke:#009af9; stroke-width:4; stroke-opacity:1; fill:none\" points=\"\n",
       "  263.233,664.19 419.284,1386.61 575.335,1260.18 731.386,862.855 887.437,844.794 1043.49,375.222 1199.54,519.706 1355.59,357.162 1511.64,122.376 1667.69,230.738 \n",
       "  1823.74,86.2547 1979.79,266.859 2135.84,230.738 2291.9,230.738 \n",
       "  \"/>\n",
       "</svg>\n"
      ]
     },
     "execution_count": 34,
     "metadata": {},
     "output_type": "execute_result"
    }
   ],
   "source": [
    "@time varyNumIterations(1:2:27, 4, 500, 80.0)"
   ]
  },
  {
   "cell_type": "markdown",
   "metadata": {},
   "source": [
    "### 5x5"
   ]
  },
  {
   "cell_type": "code",
   "execution_count": null,
   "metadata": {},
   "outputs": [],
   "source": [
    "# @time varyC(0.0:50.0:200.0, 5, 20, 500)"
   ]
  },
  {
   "cell_type": "code",
   "execution_count": null,
   "metadata": {},
   "outputs": [],
   "source": [
    "# Ideal C = 100.0\n",
    "# @time varyNumIterations(100:100:1100, 5, 20, 100.0)"
   ]
  },
  {
   "cell_type": "markdown",
   "metadata": {},
   "source": [
    "### Timing"
   ]
  },
  {
   "cell_type": "code",
   "execution_count": 59,
   "metadata": {},
   "outputs": [
    {
     "name": "stdout",
     "output_type": "stream",
     "text": [
      "  0.005081 seconds (50.09 k allocations: 1.690 MiB)\n",
      "  0.018101 seconds (204.66 k allocations: 7.312 MiB)\n",
      "  0.446723 seconds (729.93 k allocations: 27.327 MiB, 87.80% gc time)\n"
     ]
    },
    {
     "data": {
      "text/plain": [
       "CartesianIndex(2, 1)"
      ]
     },
     "execution_count": 59,
     "metadata": {},
     "output_type": "execute_result"
    }
   ],
   "source": [
    "n = 3\n",
    "gameSim = getNewGameSim(80.0, 0.9, 25)\n",
    "boardInstance = getFirstBoardInstance(n)\n",
    "cache = createCache()\n",
    "@time selectAction(gameSim, boardInstance, cache)\n",
    "\n",
    "n = 4\n",
    "gameSim = getNewGameSim(175.0, 0.9, 25)\n",
    "boardInstance = getFirstBoardInstance(n)\n",
    "cache = createCache()\n",
    "@time selectAction(gameSim, boardInstance, cache)\n",
    "\n",
    "n = 5\n",
    "gameSim = getNewGameSim(300.0, 0.9, 25)\n",
    "boardInstance = getFirstBoardInstance(n)\n",
    "cache = createCache()\n",
    "@time selectAction(gameSim, boardInstance, cache)"
   ]
  },
  {
   "cell_type": "code",
   "execution_count": 56,
   "metadata": {},
   "outputs": [
    {
     "name": "stdout",
     "output_type": "stream",
     "text": [
      " 62.013757 seconds (386.69 M allocations: 10.286 GiB, 51.09% gc time)\n"
     ]
    },
    {
     "data": {
      "text/plain": [
       "83.0"
      ]
     },
     "execution_count": 56,
     "metadata": {},
     "output_type": "execute_result"
    }
   ],
   "source": [
    "# @time runSimulation(80.0, 25, 1000, 3, createCache())\n",
    "# @time runSimulation(175.0, 25, 500, 4, createCache())\n",
    "# @time runSimulation(300.0, 25, 100, 5, createCache())"
   ]
  }
 ],
 "metadata": {
  "kernelspec": {
   "display_name": "Julia 1.2.0",
   "language": "julia",
   "name": "julia-1.2"
  },
  "language_info": {
   "file_extension": ".jl",
   "mimetype": "application/julia",
   "name": "julia",
   "version": "1.2.0"
  }
 },
 "nbformat": 4,
 "nbformat_minor": 2
}
